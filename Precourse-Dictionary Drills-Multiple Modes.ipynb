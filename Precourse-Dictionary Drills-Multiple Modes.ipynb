{
 "cells": [
  {
   "cell_type": "markdown",
   "metadata": {},
   "source": [
    "Thinkful - Dictionary Drills: Multiple Modes"
   ]
  },
  {
   "cell_type": "code",
   "execution_count": 1,
   "metadata": {},
   "outputs": [
    {
     "data": {
      "text/plain": [
       "['o', 't']"
      ]
     },
     "execution_count": 1,
     "metadata": {},
     "output_type": "execute_result"
    }
   ],
   "source": [
    "from collections import Counter\n",
    "\n",
    "def mode_(input_):\n",
    "    counter = Counter(input_)\n",
    "    max_count = max(counter.values())\n",
    "    mode = [k for k, item in counter.items() if item == max_count]\n",
    "    if len(mode) == len(counter):\n",
    "        res_mode = []\n",
    "    else:\n",
    "        res_mode = mode\n",
    "    res_mode.sort()\n",
    "    return res_mode\n",
    "\n",
    "input_1 = \"tomato\"\n",
    "input_2 = [\"roddero\"]\n",
    "input_3 = [1,2,2,3]\n",
    "mode_(input_1)"
   ]
  }
 ],
 "metadata": {
  "kernelspec": {
   "display_name": "Python 3",
   "language": "python",
   "name": "python3"
  },
  "language_info": {
   "codemirror_mode": {
    "name": "ipython",
    "version": 3
   },
   "file_extension": ".py",
   "mimetype": "text/x-python",
   "name": "python",
   "nbconvert_exporter": "python",
   "pygments_lexer": "ipython3",
   "version": "3.6.5"
  }
 },
 "nbformat": 4,
 "nbformat_minor": 2
}
