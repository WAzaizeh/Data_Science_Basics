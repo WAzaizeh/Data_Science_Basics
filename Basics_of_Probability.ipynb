{
 "cells": [
  {
   "cell_type": "markdown",
   "metadata": {},
   "source": [
    "# Assignments\n",
    "\n",
    "## Drill set 1\n",
    "### 1.\n",
    "P(HTTH) = P(HHHH) = P(TTHH) = 1/(2 ** 4)"
   ]
  },
  {
   "cell_type": "code",
   "execution_count": 9,
   "metadata": {},
   "outputs": [
    {
     "name": "stdout",
     "output_type": "stream",
     "text": [
      "P(4 independent coin flips) is 0.0625\n"
     ]
    }
   ],
   "source": [
    "P_coin_flips = 1/(2 ** 4)\n",
    "print(\"P(4 independent coin flips) is {}\".format(P_coin_flips))"
   ]
  },
  {
   "cell_type": "markdown",
   "metadata": {},
   "source": [
    "### 2."
   ]
  },
  {
   "cell_type": "code",
   "execution_count": 14,
   "metadata": {},
   "outputs": [
    {
     "name": "stdout",
     "output_type": "stream",
     "text": [
      "P(not man) is 0.467\n"
     ]
    }
   ],
   "source": [
    "P_not_man =  1- 24/45\n",
    "print(\"P(not man) is {:.3}\".format(P_not_man))"
   ]
  },
  {
   "cell_type": "markdown",
   "metadata": {},
   "source": [
    "### 3."
   ]
  },
  {
   "cell_type": "code",
   "execution_count": 16,
   "metadata": {},
   "outputs": [
    {
     "name": "stdout",
     "output_type": "stream",
     "text": [
      "P(plane crash | Bernice on plane) is 5e-06\n"
     ]
    }
   ],
   "source": [
    "P_crash_Bernice = .10 * .00005\n",
    "print(\"P(plane crash | Bernice on plane) is {:.3}\".format(P_crash_Bernice))"
   ]
  },
  {
   "cell_type": "markdown",
   "metadata": {},
   "source": [
    "### 4\n",
    "\n",
    "Sampling is depenedent on link-clicking, which is inheritly more likely as you spend more time on the website. Therefore, sampling is biased towards people that spend longer on the website."
   ]
  },
  {
   "cell_type": "markdown",
   "metadata": {},
   "source": [
    "## Drill Set 2\n",
    "### 1."
   ]
  },
  {
   "cell_type": "code",
   "execution_count": 39,
   "metadata": {
    "scrolled": true
   },
   "outputs": [
    {
     "name": "stdout",
     "output_type": "stream",
     "text": [
      "TruePos 0.49% FalsePos 9.95% TrueNeg 89.5% FalseNeg 0.01%\n"
     ]
    }
   ],
   "source": [
    "sensitivity = .98\n",
    "type_I_error = .10\n",
    "pop_positive = .005\n",
    "\n",
    "TP = pop_positive * sensitivity\n",
    "FN = pop_positive * (1 - sensitivity)\n",
    "FP = (1 - pop_positive) * type_I_error\n",
    "TN = (1 - pop_positive) * (1 - type_I_error)\n",
    "percent_form = [TP, FP, TN, FN]\n",
    "percent_form = [x * 100 for x in percent_form]\n",
    "\n",
    "print('TruePos {0:.3}% FalsePos {1:.3}% TrueNeg {2:.3}% FalseNeg {3:.3}%'.format(*percent_form))\n",
    "\n",
    "\n"
   ]
  },
  {
   "cell_type": "markdown",
   "metadata": {},
   "source": [
    "### 1.1"
   ]
  },
  {
   "cell_type": "code",
   "execution_count": 45,
   "metadata": {},
   "outputs": [
    {
     "name": "stdout",
     "output_type": "stream",
     "text": [
      "P(Thripshaw) = 10.4%\n"
     ]
    }
   ],
   "source": [
    "positive = (TP + FP) * 100\n",
    "print ('P(Thripshaw) = {:.3}%'.format(positive))"
   ]
  },
  {
   "cell_type": "markdown",
   "metadata": {},
   "source": [
    "### 1.2"
   ]
  },
  {
   "cell_type": "code",
   "execution_count": 46,
   "metadata": {},
   "outputs": [
    {
     "name": "stdout",
     "output_type": "stream",
     "text": [
      "sensitivity = 98.0%\n"
     ]
    }
   ],
   "source": [
    "sensitivity = TP / (TP + FN) * 100\n",
    "print('sensitivity = {:.3}%'.format(sensitivity))"
   ]
  },
  {
   "cell_type": "markdown",
   "metadata": {},
   "source": [
    "### 1.3"
   ]
  },
  {
   "cell_type": "code",
   "execution_count": 51,
   "metadata": {},
   "outputs": [
    {
     "name": "stdout",
     "output_type": "stream",
     "text": [
      " negative predictive value = 90.0%\n"
     ]
    }
   ],
   "source": [
    "neg_pred_value = TN / (TN + FP) * 100\n",
    "print (' negative predictive value = {:.3}%'.format(neg_pred_value))"
   ]
  },
  {
   "cell_type": "markdown",
   "metadata": {},
   "source": [
    "### 1.4"
   ]
  },
  {
   "cell_type": "code",
   "execution_count": 50,
   "metadata": {},
   "outputs": [
    {
     "name": "stdout",
     "output_type": "stream",
     "text": [
      "P(misclassify) = 9.96%\n"
     ]
    }
   ],
   "source": [
    "misclassified = (FP + FN) * 100\n",
    "print ('P(misclassify) = {:.3}%'.format(misclassified))"
   ]
  }
 ],
 "metadata": {
  "kernelspec": {
   "display_name": "Python 3",
   "language": "python",
   "name": "python3"
  },
  "language_info": {
   "codemirror_mode": {
    "name": "ipython",
    "version": 3
   },
   "file_extension": ".py",
   "mimetype": "text/x-python",
   "name": "python",
   "nbconvert_exporter": "python",
   "pygments_lexer": "ipython3",
   "version": "3.6.7"
  }
 },
 "nbformat": 4,
 "nbformat_minor": 2
}
