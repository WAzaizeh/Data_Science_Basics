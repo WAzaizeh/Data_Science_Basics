{
 "cells": [
  {
   "cell_type": "markdown",
   "metadata": {},
   "source": [
    "# Assignments:\n",
    "\n",
    "## 1."
   ]
  },
  {
   "cell_type": "code",
   "execution_count": 140,
   "metadata": {},
   "outputs": [
    {
     "name": "stdout",
     "output_type": "stream",
     "text": [
      "     name  age\n",
      "0    Greg   14\n",
      "1  Marica   12\n",
      "2   Peter   11\n",
      "3     Jan   10\n",
      "4   Bobby    8\n",
      "5   Cindy    6\n",
      "6  Oliver    6 \n",
      "\n",
      "mean is 9.57 \n",
      "\n",
      "median is 10.0 \n",
      "\n",
      "mode is 6 \n",
      "\n",
      "variance is 9.29 \n",
      "\n",
      "standard deviation is 3.05 \n",
      "\n",
      "standard error is 1.15 \n",
      "\n"
     ]
    }
   ],
   "source": [
    "import numpy as np\n",
    "import pandas as pd\n",
    "from operator import itemgetter\n",
    "\n",
    "df = pd.DataFrame({'name':['Greg', 'Marica', 'Peter', 'Jan', 'Bobby', 'Cindy', 'Oliver'],\n",
    "                     'age':[14, 12, 11, 10, 8, 6, 6]})\n",
    "\n",
    "def print_stats(df):\n",
    "    print(df[['name','age']],'\\n')\n",
    "\n",
    "    mean_ = df['age'].mean()\n",
    "    print(\"mean is {:.3}\".format(mean_), '\\n')\n",
    "\n",
    "    median_ = df['age'].median()\n",
    "    print(\"median is {:.3}\".format(median_), '\\n')\n",
    "\n",
    "    mode_ = df['age'].mode()\n",
    "    print(\"mode is {}\".format(mode_[0]), '\\n')\n",
    "\n",
    "    var_ = df['age'].var()\n",
    "    print(\"variance is {:.3}\".format(var_), '\\n')\n",
    "\n",
    "    std_ = df['age'].std()\n",
    "    print(\"standard deviation is {:.3}\".format(std_), '\\n')\n",
    "\n",
    "    sem_ = df['age'].sem()\n",
    "    print(\"standard error is {:.3}\".format(sem_), '\\n')\n",
    "    \n",
    "    return {'mean' : mean_, 'median' : median_, 'mode' : mode_[0],\n",
    "            'variance' : var_, 'standard deviation' : std_, \"standard error\" : sem_}\n",
    "    \n",
    "stats_df_1 = print_stats(df)"
   ]
  },
  {
   "cell_type": "markdown",
   "metadata": {},
   "source": [
    "## 2"
   ]
  },
  {
   "cell_type": "code",
   "execution_count": null,
   "metadata": {},
   "outputs": [],
   "source": []
  },
  {
   "cell_type": "markdown",
   "metadata": {},
   "source": [
    "## 3"
   ]
  },
  {
   "cell_type": "code",
   "execution_count": 172,
   "metadata": {},
   "outputs": [
    {
     "name": "stdout",
     "output_type": "stream",
     "text": [
      "     name  age\n",
      "0    Greg   14\n",
      "1  Marica   12\n",
      "2   Peter   11\n",
      "3     Jan   10\n",
      "4   Bobby    8\n",
      "5   Cindy    7\n",
      "6  Oliver    6 \n",
      "\n",
      "     name  age\n",
      "0    Greg   14\n",
      "1  Marica   12\n",
      "2   Peter   11\n",
      "3     Jan   10\n",
      "4   Bobby    8\n",
      "5   Cindy    7\n",
      "6  Oliver    6 \n",
      "\n",
      "mean is 9.71 \n",
      "\n",
      "median is 10.0 \n",
      "\n",
      "mode is 6 \n",
      "\n",
      "variance is 8.24 \n",
      "\n",
      "standard deviation is 2.87 \n",
      "\n",
      "standard error is 1.08 \n",
      "\n",
      "mean variance standard deviation standard error "
     ]
    }
   ],
   "source": [
    "df.loc[df.name == 'Cindy','age'] = 7 #modify Cindy's age to 7 years old\n",
    "\n",
    "print(df[['name','age']],'\\n')\n",
    "\n",
    "stats_df_2 = print_stats(df)\n",
    "\n",
    "def compare_stats(list1, list2):\n",
    "    for k, v in list1.items(): \n",
    "        if list2[k] != v: print(k, end=' ')\n",
    "        # print only first time is true 'difference is' and if never true print 'there's no difference'\n",
    "    \n",
    "#     list1_values = list(list1.values())\n",
    "#     list2_values = list(list2.values())\n",
    "#     ind = [i for i, value in enumerate(list1_values) if value not in list2_values] # not best way\n",
    "#     print(list1)\n",
    "#     print(ind)\n",
    "#     print(\"different values are {}\". format(itemgetter(*ind)(list(list1.keys()))))\n",
    "    \n",
    "compare_stats(stats_df_1, stats_df_2)\n",
    "\n"
   ]
  },
  {
   "cell_type": "markdown",
   "metadata": {},
   "source": [
    "## 4"
   ]
  },
  {
   "cell_type": "code",
   "execution_count": null,
   "metadata": {},
   "outputs": [],
   "source": [
    "df.loc[df.name == 'Cindy','age'] = 7 #modify Oliver's age to \n",
    "\n"
   ]
  }
 ],
 "metadata": {
  "kernelspec": {
   "display_name": "Python 3",
   "language": "python",
   "name": "python3"
  },
  "language_info": {
   "codemirror_mode": {
    "name": "ipython",
    "version": 3
   },
   "file_extension": ".py",
   "mimetype": "text/x-python",
   "name": "python",
   "nbconvert_exporter": "python",
   "pygments_lexer": "ipython3",
   "version": "3.6.5"
  }
 },
 "nbformat": 4,
 "nbformat_minor": 2
}
